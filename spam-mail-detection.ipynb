{
 "cells": [
  {
   "cell_type": "code",
   "execution_count": 1,
   "id": "93955a95",
   "metadata": {
    "_cell_guid": "b1076dfc-b9ad-4769-8c92-a6c4dae69d19",
    "_uuid": "8f2839f25d086af736a60e9eeb907d3b93b6e0e5",
    "execution": {
     "iopub.execute_input": "2023-09-06T18:23:43.734440Z",
     "iopub.status.busy": "2023-09-06T18:23:43.733904Z",
     "iopub.status.idle": "2023-09-06T18:23:44.158768Z",
     "shell.execute_reply": "2023-09-06T18:23:44.157611Z"
    },
    "papermill": {
     "duration": 0.443264,
     "end_time": "2023-09-06T18:23:44.161477",
     "exception": false,
     "start_time": "2023-09-06T18:23:43.718213",
     "status": "completed"
    },
    "tags": []
   },
   "outputs": [
    {
     "name": "stdout",
     "output_type": "stream",
     "text": [
      "/kaggle/input/sms-spam-collection-dataset/spam.csv\n"
     ]
    }
   ],
   "source": [
    "# This Python 3 environment comes with many helpful analytics libraries installed\n",
    "# It is defined by the kaggle/python Docker image: https://github.com/kaggle/docker-python\n",
    "# For example, here's several helpful packages to load\n",
    "\n",
    "import numpy as np # linear algebra\n",
    "import pandas as pd # data processing, CSV file I/O (e.g. pd.read_csv)\n",
    "\n",
    "# Input data files are available in the read-only \"../input/\" directory\n",
    "# For example, running this (by clicking run or pressing Shift+Enter) will list all files under the input directory\n",
    "\n",
    "import os\n",
    "for dirname, _, filenames in os.walk('/kaggle/input'):\n",
    "    for filename in filenames:\n",
    "        print(os.path.join(dirname, filename))\n",
    "\n",
    "# You can write up to 20GB to the current directory (/kaggle/working/) that gets preserved as output when you create a version using \"Save & Run All\" \n",
    "# You can also write temporary files to /kaggle/temp/, but they won't be saved outside of the current session"
   ]
  },
  {
   "cell_type": "markdown",
   "id": "bf70345d",
   "metadata": {
    "papermill": {
     "duration": 0.012499,
     "end_time": "2023-09-06T18:23:44.187044",
     "exception": false,
     "start_time": "2023-09-06T18:23:44.174545",
     "status": "completed"
    },
    "tags": []
   },
   "source": [
    "# **SPAM MAIL DETECTION**"
   ]
  },
  {
   "cell_type": "markdown",
   "id": "663667bb",
   "metadata": {
    "papermill": {
     "duration": 0.012476,
     "end_time": "2023-09-06T18:23:44.212337",
     "exception": false,
     "start_time": "2023-09-06T18:23:44.199861",
     "status": "completed"
    },
    "tags": []
   },
   "source": [
    "![](https://hawkemedia.com/_next/image/?url=https%3A%2F%2Fhawkeheadless.wpengine.com%2Fwp-content%2Fuploads%2F2023%2F05%2FA-Simple-Guide-n-How-to-Include-Animation-in-your-Emails.gif&w=750&q=75)"
   ]
  },
  {
   "cell_type": "markdown",
   "id": "7f1838d3",
   "metadata": {
    "papermill": {
     "duration": 0.012347,
     "end_time": "2023-09-06T18:23:44.237644",
     "exception": false,
     "start_time": "2023-09-06T18:23:44.225297",
     "status": "completed"
    },
    "tags": []
   },
   "source": [
    "#### We've all experienced receiving unsolicited emails at some point. Unsolicited email, often referred to as spam mail or junk mail, is a form of electronic communication sent to a large number of recipients simultaneously. These messages often include obscure content, fraudulent schemes, or, most concerning of all, phishing attempts.\n",
    "\n",
    "#### In this project, we will employ Python to construct an email spam detection system. Our objective is to educate a machine learning model to identify and categorize emails as either spam or ham (non-spam). Our ultimate aim is to efficiently separate undesirable and potentially harmful emails from our inbox.\n",
    "\n",
    "#### We'll follow the data science process to accomplish this task, including data loading, preprocessing, feature extraction, model training, evaluation, and making predictions. Let's get started and build our email spam detector!"
   ]
  },
  {
   "cell_type": "markdown",
   "id": "b7554e21",
   "metadata": {
    "papermill": {
     "duration": 0.012391,
     "end_time": "2023-09-06T18:23:44.262789",
     "exception": false,
     "start_time": "2023-09-06T18:23:44.250398",
     "status": "completed"
    },
    "tags": []
   },
   "source": [
    "## **Understanding the Data**"
   ]
  },
  {
   "cell_type": "code",
   "execution_count": 2,
   "id": "7d6135af",
   "metadata": {
    "execution": {
     "iopub.execute_input": "2023-09-06T18:23:44.290749Z",
     "iopub.status.busy": "2023-09-06T18:23:44.290237Z",
     "iopub.status.idle": "2023-09-06T18:23:47.026488Z",
     "shell.execute_reply": "2023-09-06T18:23:47.024877Z"
    },
    "papermill": {
     "duration": 2.753808,
     "end_time": "2023-09-06T18:23:47.029402",
     "exception": false,
     "start_time": "2023-09-06T18:23:44.275594",
     "status": "completed"
    },
    "tags": []
   },
   "outputs": [],
   "source": [
    "# importing the libraries\n",
    "\n",
    "import pandas as pd\n",
    "import numpy as np\n",
    "from sklearn.model_selection import train_test_split\n",
    "from sklearn.feature_extraction.text import TfidfVectorizer\n",
    "from sklearn.linear_model import LogisticRegression\n",
    "from sklearn.metrics import accuracy_score, confusion_matrix\n",
    "import nltk\n",
    "from nltk.corpus import stopwords\n",
    "from collections import Counter\n",
    "import matplotlib.pyplot as plt\n",
    "import seaborn as sns\n",
    "import warnings\n",
    "warnings.filterwarnings('ignore')"
   ]
  },
  {
   "cell_type": "code",
   "execution_count": 3,
   "id": "1302975a",
   "metadata": {
    "execution": {
     "iopub.execute_input": "2023-09-06T18:23:47.058784Z",
     "iopub.status.busy": "2023-09-06T18:23:47.058320Z",
     "iopub.status.idle": "2023-09-06T18:23:47.100156Z",
     "shell.execute_reply": "2023-09-06T18:23:47.098541Z"
    },
    "papermill": {
     "duration": 0.060118,
     "end_time": "2023-09-06T18:23:47.103291",
     "exception": false,
     "start_time": "2023-09-06T18:23:47.043173",
     "status": "completed"
    },
    "tags": []
   },
   "outputs": [],
   "source": [
    "# Loading the data\n",
    "\n",
    "df = pd.read_csv('/kaggle/input/sms-spam-collection-dataset/spam.csv',encoding='latin-1')\n"
   ]
  },
  {
   "cell_type": "code",
   "execution_count": 4,
   "id": "c9974162",
   "metadata": {
    "execution": {
     "iopub.execute_input": "2023-09-06T18:23:47.132628Z",
     "iopub.status.busy": "2023-09-06T18:23:47.132161Z",
     "iopub.status.idle": "2023-09-06T18:23:47.159573Z",
     "shell.execute_reply": "2023-09-06T18:23:47.158284Z"
    },
    "papermill": {
     "duration": 0.045449,
     "end_time": "2023-09-06T18:23:47.162524",
     "exception": false,
     "start_time": "2023-09-06T18:23:47.117075",
     "status": "completed"
    },
    "tags": []
   },
   "outputs": [
    {
     "data": {
      "text/html": [
       "<div>\n",
       "<style scoped>\n",
       "    .dataframe tbody tr th:only-of-type {\n",
       "        vertical-align: middle;\n",
       "    }\n",
       "\n",
       "    .dataframe tbody tr th {\n",
       "        vertical-align: top;\n",
       "    }\n",
       "\n",
       "    .dataframe thead th {\n",
       "        text-align: right;\n",
       "    }\n",
       "</style>\n",
       "<table border=\"1\" class=\"dataframe\">\n",
       "  <thead>\n",
       "    <tr style=\"text-align: right;\">\n",
       "      <th></th>\n",
       "      <th>v1</th>\n",
       "      <th>v2</th>\n",
       "      <th>Unnamed: 2</th>\n",
       "      <th>Unnamed: 3</th>\n",
       "      <th>Unnamed: 4</th>\n",
       "    </tr>\n",
       "  </thead>\n",
       "  <tbody>\n",
       "    <tr>\n",
       "      <th>0</th>\n",
       "      <td>ham</td>\n",
       "      <td>Go until jurong point, crazy.. Available only ...</td>\n",
       "      <td>NaN</td>\n",
       "      <td>NaN</td>\n",
       "      <td>NaN</td>\n",
       "    </tr>\n",
       "    <tr>\n",
       "      <th>1</th>\n",
       "      <td>ham</td>\n",
       "      <td>Ok lar... Joking wif u oni...</td>\n",
       "      <td>NaN</td>\n",
       "      <td>NaN</td>\n",
       "      <td>NaN</td>\n",
       "    </tr>\n",
       "    <tr>\n",
       "      <th>2</th>\n",
       "      <td>spam</td>\n",
       "      <td>Free entry in 2 a wkly comp to win FA Cup fina...</td>\n",
       "      <td>NaN</td>\n",
       "      <td>NaN</td>\n",
       "      <td>NaN</td>\n",
       "    </tr>\n",
       "    <tr>\n",
       "      <th>3</th>\n",
       "      <td>ham</td>\n",
       "      <td>U dun say so early hor... U c already then say...</td>\n",
       "      <td>NaN</td>\n",
       "      <td>NaN</td>\n",
       "      <td>NaN</td>\n",
       "    </tr>\n",
       "    <tr>\n",
       "      <th>4</th>\n",
       "      <td>ham</td>\n",
       "      <td>Nah I don't think he goes to usf, he lives aro...</td>\n",
       "      <td>NaN</td>\n",
       "      <td>NaN</td>\n",
       "      <td>NaN</td>\n",
       "    </tr>\n",
       "    <tr>\n",
       "      <th>...</th>\n",
       "      <td>...</td>\n",
       "      <td>...</td>\n",
       "      <td>...</td>\n",
       "      <td>...</td>\n",
       "      <td>...</td>\n",
       "    </tr>\n",
       "    <tr>\n",
       "      <th>5567</th>\n",
       "      <td>spam</td>\n",
       "      <td>This is the 2nd time we have tried 2 contact u...</td>\n",
       "      <td>NaN</td>\n",
       "      <td>NaN</td>\n",
       "      <td>NaN</td>\n",
       "    </tr>\n",
       "    <tr>\n",
       "      <th>5568</th>\n",
       "      <td>ham</td>\n",
       "      <td>Will Ì_ b going to esplanade fr home?</td>\n",
       "      <td>NaN</td>\n",
       "      <td>NaN</td>\n",
       "      <td>NaN</td>\n",
       "    </tr>\n",
       "    <tr>\n",
       "      <th>5569</th>\n",
       "      <td>ham</td>\n",
       "      <td>Pity, * was in mood for that. So...any other s...</td>\n",
       "      <td>NaN</td>\n",
       "      <td>NaN</td>\n",
       "      <td>NaN</td>\n",
       "    </tr>\n",
       "    <tr>\n",
       "      <th>5570</th>\n",
       "      <td>ham</td>\n",
       "      <td>The guy did some bitching but I acted like i'd...</td>\n",
       "      <td>NaN</td>\n",
       "      <td>NaN</td>\n",
       "      <td>NaN</td>\n",
       "    </tr>\n",
       "    <tr>\n",
       "      <th>5571</th>\n",
       "      <td>ham</td>\n",
       "      <td>Rofl. Its true to its name</td>\n",
       "      <td>NaN</td>\n",
       "      <td>NaN</td>\n",
       "      <td>NaN</td>\n",
       "    </tr>\n",
       "  </tbody>\n",
       "</table>\n",
       "<p>5572 rows × 5 columns</p>\n",
       "</div>"
      ],
      "text/plain": [
       "        v1                                                 v2 Unnamed: 2  \\\n",
       "0      ham  Go until jurong point, crazy.. Available only ...        NaN   \n",
       "1      ham                      Ok lar... Joking wif u oni...        NaN   \n",
       "2     spam  Free entry in 2 a wkly comp to win FA Cup fina...        NaN   \n",
       "3      ham  U dun say so early hor... U c already then say...        NaN   \n",
       "4      ham  Nah I don't think he goes to usf, he lives aro...        NaN   \n",
       "...    ...                                                ...        ...   \n",
       "5567  spam  This is the 2nd time we have tried 2 contact u...        NaN   \n",
       "5568   ham              Will Ì_ b going to esplanade fr home?        NaN   \n",
       "5569   ham  Pity, * was in mood for that. So...any other s...        NaN   \n",
       "5570   ham  The guy did some bitching but I acted like i'd...        NaN   \n",
       "5571   ham                         Rofl. Its true to its name        NaN   \n",
       "\n",
       "     Unnamed: 3 Unnamed: 4  \n",
       "0           NaN        NaN  \n",
       "1           NaN        NaN  \n",
       "2           NaN        NaN  \n",
       "3           NaN        NaN  \n",
       "4           NaN        NaN  \n",
       "...         ...        ...  \n",
       "5567        NaN        NaN  \n",
       "5568        NaN        NaN  \n",
       "5569        NaN        NaN  \n",
       "5570        NaN        NaN  \n",
       "5571        NaN        NaN  \n",
       "\n",
       "[5572 rows x 5 columns]"
      ]
     },
     "execution_count": 4,
     "metadata": {},
     "output_type": "execute_result"
    }
   ],
   "source": [
    "# Displaying the data\n",
    "\n",
    "df"
   ]
  },
  {
   "cell_type": "code",
   "execution_count": 5,
   "id": "69cca0d6",
   "metadata": {
    "execution": {
     "iopub.execute_input": "2023-09-06T18:23:47.192202Z",
     "iopub.status.busy": "2023-09-06T18:23:47.191361Z",
     "iopub.status.idle": "2023-09-06T18:23:47.220716Z",
     "shell.execute_reply": "2023-09-06T18:23:47.219371Z"
    },
    "papermill": {
     "duration": 0.046946,
     "end_time": "2023-09-06T18:23:47.223449",
     "exception": false,
     "start_time": "2023-09-06T18:23:47.176503",
     "status": "completed"
    },
    "tags": []
   },
   "outputs": [
    {
     "name": "stdout",
     "output_type": "stream",
     "text": [
      "<class 'pandas.core.frame.DataFrame'>\n",
      "RangeIndex: 5572 entries, 0 to 5571\n",
      "Data columns (total 5 columns):\n",
      " #   Column      Non-Null Count  Dtype \n",
      "---  ------      --------------  ----- \n",
      " 0   v1          5572 non-null   object\n",
      " 1   v2          5572 non-null   object\n",
      " 2   Unnamed: 2  50 non-null     object\n",
      " 3   Unnamed: 3  12 non-null     object\n",
      " 4   Unnamed: 4  6 non-null      object\n",
      "dtypes: object(5)\n",
      "memory usage: 217.8+ KB\n"
     ]
    }
   ],
   "source": [
    "# Consice information of the dataset\n",
    "\n",
    "df.info()"
   ]
  },
  {
   "cell_type": "code",
   "execution_count": 6,
   "id": "18511849",
   "metadata": {
    "execution": {
     "iopub.execute_input": "2023-09-06T18:23:47.252302Z",
     "iopub.status.busy": "2023-09-06T18:23:47.251858Z",
     "iopub.status.idle": "2023-09-06T18:23:47.335837Z",
     "shell.execute_reply": "2023-09-06T18:23:47.334675Z"
    },
    "papermill": {
     "duration": 0.101209,
     "end_time": "2023-09-06T18:23:47.338074",
     "exception": false,
     "start_time": "2023-09-06T18:23:47.236865",
     "status": "completed"
    },
    "tags": []
   },
   "outputs": [
    {
     "name": "stdout",
     "output_type": "stream",
     "text": [
      "[nltk_data] Downloading package stopwords to /usr/share/nltk_data...\n",
      "[nltk_data]   Package stopwords is already up-to-date!\n"
     ]
    },
    {
     "data": {
      "text/plain": [
       "True"
      ]
     },
     "execution_count": 6,
     "metadata": {},
     "output_type": "execute_result"
    }
   ],
   "source": [
    "# Downloading the stopwords dataset\n",
    "\n",
    "nltk.download('stopwords')"
   ]
  },
  {
   "cell_type": "code",
   "execution_count": 7,
   "id": "13d76127",
   "metadata": {
    "execution": {
     "iopub.execute_input": "2023-09-06T18:23:47.368412Z",
     "iopub.status.busy": "2023-09-06T18:23:47.367924Z",
     "iopub.status.idle": "2023-09-06T18:23:47.377892Z",
     "shell.execute_reply": "2023-09-06T18:23:47.376664Z"
    },
    "papermill": {
     "duration": 0.028269,
     "end_time": "2023-09-06T18:23:47.380533",
     "exception": false,
     "start_time": "2023-09-06T18:23:47.352264",
     "status": "completed"
    },
    "tags": []
   },
   "outputs": [],
   "source": [
    "column_drop=['Unnamed: 2','Unnamed: 3','Unnamed: 4']\n",
    "df.drop(columns=column_drop, inplace=True)"
   ]
  },
  {
   "cell_type": "code",
   "execution_count": 8,
   "id": "48df461e",
   "metadata": {
    "execution": {
     "iopub.execute_input": "2023-09-06T18:23:47.412407Z",
     "iopub.status.busy": "2023-09-06T18:23:47.411850Z",
     "iopub.status.idle": "2023-09-06T18:23:47.425046Z",
     "shell.execute_reply": "2023-09-06T18:23:47.423932Z"
    },
    "papermill": {
     "duration": 0.033154,
     "end_time": "2023-09-06T18:23:47.427618",
     "exception": false,
     "start_time": "2023-09-06T18:23:47.394464",
     "status": "completed"
    },
    "tags": []
   },
   "outputs": [
    {
     "data": {
      "text/html": [
       "<div>\n",
       "<style scoped>\n",
       "    .dataframe tbody tr th:only-of-type {\n",
       "        vertical-align: middle;\n",
       "    }\n",
       "\n",
       "    .dataframe tbody tr th {\n",
       "        vertical-align: top;\n",
       "    }\n",
       "\n",
       "    .dataframe thead th {\n",
       "        text-align: right;\n",
       "    }\n",
       "</style>\n",
       "<table border=\"1\" class=\"dataframe\">\n",
       "  <thead>\n",
       "    <tr style=\"text-align: right;\">\n",
       "      <th></th>\n",
       "      <th>v1</th>\n",
       "      <th>v2</th>\n",
       "    </tr>\n",
       "  </thead>\n",
       "  <tbody>\n",
       "    <tr>\n",
       "      <th>0</th>\n",
       "      <td>ham</td>\n",
       "      <td>Go until jurong point, crazy.. Available only ...</td>\n",
       "    </tr>\n",
       "    <tr>\n",
       "      <th>1</th>\n",
       "      <td>ham</td>\n",
       "      <td>Ok lar... Joking wif u oni...</td>\n",
       "    </tr>\n",
       "    <tr>\n",
       "      <th>2</th>\n",
       "      <td>spam</td>\n",
       "      <td>Free entry in 2 a wkly comp to win FA Cup fina...</td>\n",
       "    </tr>\n",
       "    <tr>\n",
       "      <th>3</th>\n",
       "      <td>ham</td>\n",
       "      <td>U dun say so early hor... U c already then say...</td>\n",
       "    </tr>\n",
       "    <tr>\n",
       "      <th>4</th>\n",
       "      <td>ham</td>\n",
       "      <td>Nah I don't think he goes to usf, he lives aro...</td>\n",
       "    </tr>\n",
       "    <tr>\n",
       "      <th>...</th>\n",
       "      <td>...</td>\n",
       "      <td>...</td>\n",
       "    </tr>\n",
       "    <tr>\n",
       "      <th>5567</th>\n",
       "      <td>spam</td>\n",
       "      <td>This is the 2nd time we have tried 2 contact u...</td>\n",
       "    </tr>\n",
       "    <tr>\n",
       "      <th>5568</th>\n",
       "      <td>ham</td>\n",
       "      <td>Will Ì_ b going to esplanade fr home?</td>\n",
       "    </tr>\n",
       "    <tr>\n",
       "      <th>5569</th>\n",
       "      <td>ham</td>\n",
       "      <td>Pity, * was in mood for that. So...any other s...</td>\n",
       "    </tr>\n",
       "    <tr>\n",
       "      <th>5570</th>\n",
       "      <td>ham</td>\n",
       "      <td>The guy did some bitching but I acted like i'd...</td>\n",
       "    </tr>\n",
       "    <tr>\n",
       "      <th>5571</th>\n",
       "      <td>ham</td>\n",
       "      <td>Rofl. Its true to its name</td>\n",
       "    </tr>\n",
       "  </tbody>\n",
       "</table>\n",
       "<p>5572 rows × 2 columns</p>\n",
       "</div>"
      ],
      "text/plain": [
       "        v1                                                 v2\n",
       "0      ham  Go until jurong point, crazy.. Available only ...\n",
       "1      ham                      Ok lar... Joking wif u oni...\n",
       "2     spam  Free entry in 2 a wkly comp to win FA Cup fina...\n",
       "3      ham  U dun say so early hor... U c already then say...\n",
       "4      ham  Nah I don't think he goes to usf, he lives aro...\n",
       "...    ...                                                ...\n",
       "5567  spam  This is the 2nd time we have tried 2 contact u...\n",
       "5568   ham              Will Ì_ b going to esplanade fr home?\n",
       "5569   ham  Pity, * was in mood for that. So...any other s...\n",
       "5570   ham  The guy did some bitching but I acted like i'd...\n",
       "5571   ham                         Rofl. Its true to its name\n",
       "\n",
       "[5572 rows x 2 columns]"
      ]
     },
     "execution_count": 8,
     "metadata": {},
     "output_type": "execute_result"
    }
   ],
   "source": [
    "df"
   ]
  },
  {
   "cell_type": "code",
   "execution_count": 9,
   "id": "31e4b752",
   "metadata": {
    "execution": {
     "iopub.execute_input": "2023-09-06T18:23:47.457852Z",
     "iopub.status.busy": "2023-09-06T18:23:47.456881Z",
     "iopub.status.idle": "2023-09-06T18:23:47.475021Z",
     "shell.execute_reply": "2023-09-06T18:23:47.474134Z"
    },
    "papermill": {
     "duration": 0.03558,
     "end_time": "2023-09-06T18:23:47.477203",
     "exception": false,
     "start_time": "2023-09-06T18:23:47.441623",
     "status": "completed"
    },
    "tags": []
   },
   "outputs": [
    {
     "data": {
      "text/html": [
       "<div>\n",
       "<style scoped>\n",
       "    .dataframe tbody tr th:only-of-type {\n",
       "        vertical-align: middle;\n",
       "    }\n",
       "\n",
       "    .dataframe tbody tr th {\n",
       "        vertical-align: top;\n",
       "    }\n",
       "\n",
       "    .dataframe thead th {\n",
       "        text-align: right;\n",
       "    }\n",
       "</style>\n",
       "<table border=\"1\" class=\"dataframe\">\n",
       "  <thead>\n",
       "    <tr style=\"text-align: right;\">\n",
       "      <th></th>\n",
       "      <th>v1</th>\n",
       "      <th>v2</th>\n",
       "    </tr>\n",
       "  </thead>\n",
       "  <tbody>\n",
       "    <tr>\n",
       "      <th>102</th>\n",
       "      <td>ham</td>\n",
       "      <td>As per your request 'Melle Melle (Oru Minnamin...</td>\n",
       "    </tr>\n",
       "    <tr>\n",
       "      <th>153</th>\n",
       "      <td>ham</td>\n",
       "      <td>As per your request 'Melle Melle (Oru Minnamin...</td>\n",
       "    </tr>\n",
       "    <tr>\n",
       "      <th>206</th>\n",
       "      <td>ham</td>\n",
       "      <td>As I entered my cabin my PA said, '' Happy B'd...</td>\n",
       "    </tr>\n",
       "    <tr>\n",
       "      <th>222</th>\n",
       "      <td>ham</td>\n",
       "      <td>Sorry, I'll call later</td>\n",
       "    </tr>\n",
       "    <tr>\n",
       "      <th>325</th>\n",
       "      <td>ham</td>\n",
       "      <td>No calls..messages..missed calls</td>\n",
       "    </tr>\n",
       "    <tr>\n",
       "      <th>...</th>\n",
       "      <td>...</td>\n",
       "      <td>...</td>\n",
       "    </tr>\n",
       "    <tr>\n",
       "      <th>5524</th>\n",
       "      <td>spam</td>\n",
       "      <td>You are awarded a SiPix Digital Camera! call 0...</td>\n",
       "    </tr>\n",
       "    <tr>\n",
       "      <th>5535</th>\n",
       "      <td>ham</td>\n",
       "      <td>I know you are thinkin malaria. But relax, chi...</td>\n",
       "    </tr>\n",
       "    <tr>\n",
       "      <th>5539</th>\n",
       "      <td>ham</td>\n",
       "      <td>Just sleeping..and surfing</td>\n",
       "    </tr>\n",
       "    <tr>\n",
       "      <th>5553</th>\n",
       "      <td>ham</td>\n",
       "      <td>Hahaha..use your brain dear</td>\n",
       "    </tr>\n",
       "    <tr>\n",
       "      <th>5558</th>\n",
       "      <td>ham</td>\n",
       "      <td>Sorry, I'll call later</td>\n",
       "    </tr>\n",
       "  </tbody>\n",
       "</table>\n",
       "<p>403 rows × 2 columns</p>\n",
       "</div>"
      ],
      "text/plain": [
       "        v1                                                 v2\n",
       "102    ham  As per your request 'Melle Melle (Oru Minnamin...\n",
       "153    ham  As per your request 'Melle Melle (Oru Minnamin...\n",
       "206    ham  As I entered my cabin my PA said, '' Happy B'd...\n",
       "222    ham                             Sorry, I'll call later\n",
       "325    ham                   No calls..messages..missed calls\n",
       "...    ...                                                ...\n",
       "5524  spam  You are awarded a SiPix Digital Camera! call 0...\n",
       "5535   ham  I know you are thinkin malaria. But relax, chi...\n",
       "5539   ham                         Just sleeping..and surfing\n",
       "5553   ham                        Hahaha..use your brain dear\n",
       "5558   ham                             Sorry, I'll call later\n",
       "\n",
       "[403 rows x 2 columns]"
      ]
     },
     "execution_count": 9,
     "metadata": {},
     "output_type": "execute_result"
    }
   ],
   "source": [
    "df[df.duplicated()]"
   ]
  },
  {
   "cell_type": "code",
   "execution_count": 10,
   "id": "e0f2435c",
   "metadata": {
    "execution": {
     "iopub.execute_input": "2023-09-06T18:23:47.508597Z",
     "iopub.status.busy": "2023-09-06T18:23:47.508130Z",
     "iopub.status.idle": "2023-09-06T18:23:47.524872Z",
     "shell.execute_reply": "2023-09-06T18:23:47.523735Z"
    },
    "papermill": {
     "duration": 0.034917,
     "end_time": "2023-09-06T18:23:47.527324",
     "exception": false,
     "start_time": "2023-09-06T18:23:47.492407",
     "status": "completed"
    },
    "tags": []
   },
   "outputs": [
    {
     "data": {
      "text/html": [
       "<div>\n",
       "<style scoped>\n",
       "    .dataframe tbody tr th:only-of-type {\n",
       "        vertical-align: middle;\n",
       "    }\n",
       "\n",
       "    .dataframe tbody tr th {\n",
       "        vertical-align: top;\n",
       "    }\n",
       "\n",
       "    .dataframe thead th {\n",
       "        text-align: right;\n",
       "    }\n",
       "</style>\n",
       "<table border=\"1\" class=\"dataframe\">\n",
       "  <thead>\n",
       "    <tr style=\"text-align: right;\">\n",
       "      <th></th>\n",
       "      <th>v1</th>\n",
       "      <th>v2</th>\n",
       "    </tr>\n",
       "  </thead>\n",
       "  <tbody>\n",
       "    <tr>\n",
       "      <th>0</th>\n",
       "      <td>ham</td>\n",
       "      <td>Go until jurong point, crazy.. Available only ...</td>\n",
       "    </tr>\n",
       "    <tr>\n",
       "      <th>1</th>\n",
       "      <td>ham</td>\n",
       "      <td>Ok lar... Joking wif u oni...</td>\n",
       "    </tr>\n",
       "    <tr>\n",
       "      <th>2</th>\n",
       "      <td>spam</td>\n",
       "      <td>Free entry in 2 a wkly comp to win FA Cup fina...</td>\n",
       "    </tr>\n",
       "    <tr>\n",
       "      <th>3</th>\n",
       "      <td>ham</td>\n",
       "      <td>U dun say so early hor... U c already then say...</td>\n",
       "    </tr>\n",
       "    <tr>\n",
       "      <th>4</th>\n",
       "      <td>ham</td>\n",
       "      <td>Nah I don't think he goes to usf, he lives aro...</td>\n",
       "    </tr>\n",
       "    <tr>\n",
       "      <th>...</th>\n",
       "      <td>...</td>\n",
       "      <td>...</td>\n",
       "    </tr>\n",
       "    <tr>\n",
       "      <th>5567</th>\n",
       "      <td>spam</td>\n",
       "      <td>This is the 2nd time we have tried 2 contact u...</td>\n",
       "    </tr>\n",
       "    <tr>\n",
       "      <th>5568</th>\n",
       "      <td>ham</td>\n",
       "      <td>Will Ì_ b going to esplanade fr home?</td>\n",
       "    </tr>\n",
       "    <tr>\n",
       "      <th>5569</th>\n",
       "      <td>ham</td>\n",
       "      <td>Pity, * was in mood for that. So...any other s...</td>\n",
       "    </tr>\n",
       "    <tr>\n",
       "      <th>5570</th>\n",
       "      <td>ham</td>\n",
       "      <td>The guy did some bitching but I acted like i'd...</td>\n",
       "    </tr>\n",
       "    <tr>\n",
       "      <th>5571</th>\n",
       "      <td>ham</td>\n",
       "      <td>Rofl. Its true to its name</td>\n",
       "    </tr>\n",
       "  </tbody>\n",
       "</table>\n",
       "<p>5169 rows × 2 columns</p>\n",
       "</div>"
      ],
      "text/plain": [
       "        v1                                                 v2\n",
       "0      ham  Go until jurong point, crazy.. Available only ...\n",
       "1      ham                      Ok lar... Joking wif u oni...\n",
       "2     spam  Free entry in 2 a wkly comp to win FA Cup fina...\n",
       "3      ham  U dun say so early hor... U c already then say...\n",
       "4      ham  Nah I don't think he goes to usf, he lives aro...\n",
       "...    ...                                                ...\n",
       "5567  spam  This is the 2nd time we have tried 2 contact u...\n",
       "5568   ham              Will Ì_ b going to esplanade fr home?\n",
       "5569   ham  Pity, * was in mood for that. So...any other s...\n",
       "5570   ham  The guy did some bitching but I acted like i'd...\n",
       "5571   ham                         Rofl. Its true to its name\n",
       "\n",
       "[5169 rows x 2 columns]"
      ]
     },
     "execution_count": 10,
     "metadata": {},
     "output_type": "execute_result"
    }
   ],
   "source": [
    "#Drop duplicated values\n",
    "df=df.drop_duplicates()\n",
    "df"
   ]
  },
  {
   "cell_type": "code",
   "execution_count": 11,
   "id": "4a2742f4",
   "metadata": {
    "execution": {
     "iopub.execute_input": "2023-09-06T18:23:47.558662Z",
     "iopub.status.busy": "2023-09-06T18:23:47.558209Z",
     "iopub.status.idle": "2023-09-06T18:23:47.571208Z",
     "shell.execute_reply": "2023-09-06T18:23:47.570241Z"
    },
    "papermill": {
     "duration": 0.031141,
     "end_time": "2023-09-06T18:23:47.573604",
     "exception": false,
     "start_time": "2023-09-06T18:23:47.542463",
     "status": "completed"
    },
    "tags": []
   },
   "outputs": [
    {
     "name": "stdout",
     "output_type": "stream",
     "text": [
      "<class 'pandas.core.frame.DataFrame'>\n",
      "Index: 5169 entries, 0 to 5571\n",
      "Data columns (total 2 columns):\n",
      " #   Column  Non-Null Count  Dtype \n",
      "---  ------  --------------  ----- \n",
      " 0   v1      5169 non-null   object\n",
      " 1   v2      5169 non-null   object\n",
      "dtypes: object(2)\n",
      "memory usage: 121.1+ KB\n"
     ]
    }
   ],
   "source": [
    "df.info()"
   ]
  },
  {
   "cell_type": "code",
   "execution_count": 12,
   "id": "6078412e",
   "metadata": {
    "execution": {
     "iopub.execute_input": "2023-09-06T18:23:47.605809Z",
     "iopub.status.busy": "2023-09-06T18:23:47.605388Z",
     "iopub.status.idle": "2023-09-06T18:23:47.628156Z",
     "shell.execute_reply": "2023-09-06T18:23:47.627031Z"
    },
    "papermill": {
     "duration": 0.041883,
     "end_time": "2023-09-06T18:23:47.630616",
     "exception": false,
     "start_time": "2023-09-06T18:23:47.588733",
     "status": "completed"
    },
    "tags": []
   },
   "outputs": [
    {
     "data": {
      "text/html": [
       "<div>\n",
       "<style scoped>\n",
       "    .dataframe tbody tr th:only-of-type {\n",
       "        vertical-align: middle;\n",
       "    }\n",
       "\n",
       "    .dataframe tbody tr th {\n",
       "        vertical-align: top;\n",
       "    }\n",
       "\n",
       "    .dataframe thead th {\n",
       "        text-align: right;\n",
       "    }\n",
       "</style>\n",
       "<table border=\"1\" class=\"dataframe\">\n",
       "  <thead>\n",
       "    <tr style=\"text-align: right;\">\n",
       "      <th></th>\n",
       "      <th>v1</th>\n",
       "      <th>v2</th>\n",
       "    </tr>\n",
       "  </thead>\n",
       "  <tbody>\n",
       "    <tr>\n",
       "      <th>count</th>\n",
       "      <td>5169</td>\n",
       "      <td>5169</td>\n",
       "    </tr>\n",
       "    <tr>\n",
       "      <th>unique</th>\n",
       "      <td>2</td>\n",
       "      <td>5169</td>\n",
       "    </tr>\n",
       "    <tr>\n",
       "      <th>top</th>\n",
       "      <td>ham</td>\n",
       "      <td>Go until jurong point, crazy.. Available only ...</td>\n",
       "    </tr>\n",
       "    <tr>\n",
       "      <th>freq</th>\n",
       "      <td>4516</td>\n",
       "      <td>1</td>\n",
       "    </tr>\n",
       "  </tbody>\n",
       "</table>\n",
       "</div>"
      ],
      "text/plain": [
       "          v1                                                 v2\n",
       "count   5169                                               5169\n",
       "unique     2                                               5169\n",
       "top      ham  Go until jurong point, crazy.. Available only ...\n",
       "freq    4516                                                  1"
      ]
     },
     "execution_count": 12,
     "metadata": {},
     "output_type": "execute_result"
    }
   ],
   "source": [
    "# Description of data\n",
    "\n",
    "df.describe()"
   ]
  },
  {
   "cell_type": "code",
   "execution_count": 13,
   "id": "11ab1fb7",
   "metadata": {
    "execution": {
     "iopub.execute_input": "2023-09-06T18:23:47.662572Z",
     "iopub.status.busy": "2023-09-06T18:23:47.662145Z",
     "iopub.status.idle": "2023-09-06T18:23:47.671569Z",
     "shell.execute_reply": "2023-09-06T18:23:47.670312Z"
    },
    "papermill": {
     "duration": 0.028202,
     "end_time": "2023-09-06T18:23:47.674017",
     "exception": false,
     "start_time": "2023-09-06T18:23:47.645815",
     "status": "completed"
    },
    "tags": []
   },
   "outputs": [
    {
     "data": {
      "text/plain": [
       "v1\n",
       "ham     4516\n",
       "spam     653\n",
       "Name: count, dtype: int64"
      ]
     },
     "execution_count": 13,
     "metadata": {},
     "output_type": "execute_result"
    }
   ],
   "source": [
    "df['v1'].value_counts()"
   ]
  },
  {
   "cell_type": "markdown",
   "id": "e29c6fef",
   "metadata": {
    "papermill": {
     "duration": 0.014891,
     "end_time": "2023-09-06T18:23:47.704262",
     "exception": false,
     "start_time": "2023-09-06T18:23:47.689371",
     "status": "completed"
    },
    "tags": []
   },
   "source": [
    "## **Data Visualisation**"
   ]
  },
  {
   "cell_type": "code",
   "execution_count": 14,
   "id": "7326c7d3",
   "metadata": {
    "execution": {
     "iopub.execute_input": "2023-09-06T18:23:47.736529Z",
     "iopub.status.busy": "2023-09-06T18:23:47.736098Z",
     "iopub.status.idle": "2023-09-06T18:23:48.014443Z",
     "shell.execute_reply": "2023-09-06T18:23:48.013195Z"
    },
    "papermill": {
     "duration": 0.297631,
     "end_time": "2023-09-06T18:23:48.017058",
     "exception": false,
     "start_time": "2023-09-06T18:23:47.719427",
     "status": "completed"
    },
    "tags": []
   },
   "outputs": [
    {
     "data": {
      "image/png": "[encoded data removed]",
      "text/plain": [
       "<Figure size 640x480 with 1 Axes>"
      ]
     },
     "metadata": {},
     "output_type": "display_data"
    }
   ],
   "source": [
    "\n",
    "sns.countplot(data=df, x='v1')\n",
    "plt.xlabel('v1')\n",
    "plt.ylabel('count')\n",
    "plt.title('Distribution of mails')\n",
    "plt.show()"
   ]
  },
  {
   "cell_type": "markdown",
   "id": "811d3bd4",
   "metadata": {
    "papermill": {
     "duration": 0.015105,
     "end_time": "2023-09-06T18:23:48.047755",
     "exception": false,
     "start_time": "2023-09-06T18:23:48.032650",
     "status": "completed"
    },
    "tags": []
   },
   "source": [
    "## **Data Preprocessing**"
   ]
  },
  {
   "cell_type": "code",
   "execution_count": 15,
   "id": "620fecf6",
   "metadata": {
    "execution": {
     "iopub.execute_input": "2023-09-06T18:23:48.081381Z",
     "iopub.status.busy": "2023-09-06T18:23:48.080885Z",
     "iopub.status.idle": "2023-09-06T18:23:48.099364Z",
     "shell.execute_reply": "2023-09-06T18:23:48.098269Z"
    },
    "papermill": {
     "duration": 0.038365,
     "end_time": "2023-09-06T18:23:48.101924",
     "exception": false,
     "start_time": "2023-09-06T18:23:48.063559",
     "status": "completed"
    },
    "tags": []
   },
   "outputs": [
    {
     "data": {
      "text/html": [
       "<div>\n",
       "<style scoped>\n",
       "    .dataframe tbody tr th:only-of-type {\n",
       "        vertical-align: middle;\n",
       "    }\n",
       "\n",
       "    .dataframe tbody tr th {\n",
       "        vertical-align: top;\n",
       "    }\n",
       "\n",
       "    .dataframe thead th {\n",
       "        text-align: right;\n",
       "    }\n",
       "</style>\n",
       "<table border=\"1\" class=\"dataframe\">\n",
       "  <thead>\n",
       "    <tr style=\"text-align: right;\">\n",
       "      <th></th>\n",
       "      <th>v1</th>\n",
       "      <th>v2</th>\n",
       "      <th>Category</th>\n",
       "    </tr>\n",
       "  </thead>\n",
       "  <tbody>\n",
       "    <tr>\n",
       "      <th>0</th>\n",
       "      <td>ham</td>\n",
       "      <td>Go until jurong point, crazy.. Available only ...</td>\n",
       "      <td>1.0</td>\n",
       "    </tr>\n",
       "    <tr>\n",
       "      <th>1</th>\n",
       "      <td>ham</td>\n",
       "      <td>Ok lar... Joking wif u oni...</td>\n",
       "      <td>1.0</td>\n",
       "    </tr>\n",
       "    <tr>\n",
       "      <th>2</th>\n",
       "      <td>spam</td>\n",
       "      <td>Free entry in 2 a wkly comp to win FA Cup fina...</td>\n",
       "      <td>0.0</td>\n",
       "    </tr>\n",
       "    <tr>\n",
       "      <th>3</th>\n",
       "      <td>ham</td>\n",
       "      <td>U dun say so early hor... U c already then say...</td>\n",
       "      <td>1.0</td>\n",
       "    </tr>\n",
       "    <tr>\n",
       "      <th>4</th>\n",
       "      <td>ham</td>\n",
       "      <td>Nah I don't think he goes to usf, he lives aro...</td>\n",
       "      <td>1.0</td>\n",
       "    </tr>\n",
       "  </tbody>\n",
       "</table>\n",
       "</div>"
      ],
      "text/plain": [
       "     v1                                                 v2  Category\n",
       "0   ham  Go until jurong point, crazy.. Available only ...       1.0\n",
       "1   ham                      Ok lar... Joking wif u oni...       1.0\n",
       "2  spam  Free entry in 2 a wkly comp to win FA Cup fina...       0.0\n",
       "3   ham  U dun say so early hor... U c already then say...       1.0\n",
       "4   ham  Nah I don't think he goes to usf, he lives aro...       1.0"
      ]
     },
     "execution_count": 15,
     "metadata": {},
     "output_type": "execute_result"
    }
   ],
   "source": [
    "# Convert the \"Category\" column values to numerical representation(0 for \"spam\",1 for \"ham\")\n",
    "\n",
    "df.loc[df[\"v1\"] == \"spam\", \"Category\"] = 0\n",
    "df.loc[df[\"v1\"] == \"ham\", \"Category\"] = 1\n",
    "\n",
    "df.head()"
   ]
  },
  {
   "cell_type": "code",
   "execution_count": 16,
   "id": "96e763a8",
   "metadata": {
    "execution": {
     "iopub.execute_input": "2023-09-06T18:23:48.138889Z",
     "iopub.status.busy": "2023-09-06T18:23:48.138154Z",
     "iopub.status.idle": "2023-09-06T18:23:48.143275Z",
     "shell.execute_reply": "2023-09-06T18:23:48.142323Z"
    },
    "papermill": {
     "duration": 0.027754,
     "end_time": "2023-09-06T18:23:48.145648",
     "exception": false,
     "start_time": "2023-09-06T18:23:48.117894",
     "status": "completed"
    },
    "tags": []
   },
   "outputs": [],
   "source": [
    "X = df['v2']\n",
    "Y = df['Category']"
   ]
  },
  {
   "cell_type": "code",
   "execution_count": 17,
   "id": "e5b95092",
   "metadata": {
    "execution": {
     "iopub.execute_input": "2023-09-06T18:23:48.180967Z",
     "iopub.status.busy": "2023-09-06T18:23:48.180046Z",
     "iopub.status.idle": "2023-09-06T18:23:48.189167Z",
     "shell.execute_reply": "2023-09-06T18:23:48.187817Z"
    },
    "papermill": {
     "duration": 0.029618,
     "end_time": "2023-09-06T18:23:48.191770",
     "exception": false,
     "start_time": "2023-09-06T18:23:48.162152",
     "status": "completed"
    },
    "tags": []
   },
   "outputs": [
    {
     "data": {
      "text/plain": [
       "0       Go until jurong point, crazy.. Available only ...\n",
       "1                           Ok lar... Joking wif u oni...\n",
       "2       Free entry in 2 a wkly comp to win FA Cup fina...\n",
       "3       U dun say so early hor... U c already then say...\n",
       "4       Nah I don't think he goes to usf, he lives aro...\n",
       "                              ...                        \n",
       "5567    This is the 2nd time we have tried 2 contact u...\n",
       "5568                Will Ì_ b going to esplanade fr home?\n",
       "5569    Pity, * was in mood for that. So...any other s...\n",
       "5570    The guy did some bitching but I acted like i'd...\n",
       "5571                           Rofl. Its true to its name\n",
       "Name: v2, Length: 5169, dtype: object"
      ]
     },
     "execution_count": 17,
     "metadata": {},
     "output_type": "execute_result"
    }
   ],
   "source": [
    "X"
   ]
  },
  {
   "cell_type": "code",
   "execution_count": 18,
   "id": "d11b7dba",
   "metadata": {
    "execution": {
     "iopub.execute_input": "2023-09-06T18:23:48.226338Z",
     "iopub.status.busy": "2023-09-06T18:23:48.225882Z",
     "iopub.status.idle": "2023-09-06T18:23:48.236085Z",
     "shell.execute_reply": "2023-09-06T18:23:48.234832Z"
    },
    "papermill": {
     "duration": 0.030392,
     "end_time": "2023-09-06T18:23:48.238429",
     "exception": false,
     "start_time": "2023-09-06T18:23:48.208037",
     "status": "completed"
    },
    "tags": []
   },
   "outputs": [
    {
     "data": {
      "text/plain": [
       "0       1.0\n",
       "1       1.0\n",
       "2       0.0\n",
       "3       1.0\n",
       "4       1.0\n",
       "       ... \n",
       "5567    0.0\n",
       "5568    1.0\n",
       "5569    1.0\n",
       "5570    1.0\n",
       "5571    1.0\n",
       "Name: Category, Length: 5169, dtype: float64"
      ]
     },
     "execution_count": 18,
     "metadata": {},
     "output_type": "execute_result"
    }
   ],
   "source": [
    "Y"
   ]
  },
  {
   "cell_type": "code",
   "execution_count": 19,
   "id": "3f958be9",
   "metadata": {
    "execution": {
     "iopub.execute_input": "2023-09-06T18:23:48.337586Z",
     "iopub.status.busy": "2023-09-06T18:23:48.336555Z",
     "iopub.status.idle": "2023-09-06T18:23:48.344880Z",
     "shell.execute_reply": "2023-09-06T18:23:48.343885Z"
    },
    "papermill": {
     "duration": 0.028798,
     "end_time": "2023-09-06T18:23:48.347545",
     "exception": false,
     "start_time": "2023-09-06T18:23:48.318747",
     "status": "completed"
    },
    "tags": []
   },
   "outputs": [],
   "source": [
    "# Splitting the data into train and test data\n",
    "\n",
    "X_train,X_test,Y_train,Y_test = train_test_split(X,Y,test_size=0.3, random_state=2)"
   ]
  },
  {
   "cell_type": "code",
   "execution_count": 20,
   "id": "58eb0337",
   "metadata": {
    "execution": {
     "iopub.execute_input": "2023-09-06T18:23:48.382899Z",
     "iopub.status.busy": "2023-09-06T18:23:48.382192Z",
     "iopub.status.idle": "2023-09-06T18:23:48.389071Z",
     "shell.execute_reply": "2023-09-06T18:23:48.387577Z"
    },
    "papermill": {
     "duration": 0.027526,
     "end_time": "2023-09-06T18:23:48.391446",
     "exception": false,
     "start_time": "2023-09-06T18:23:48.363920",
     "status": "completed"
    },
    "tags": []
   },
   "outputs": [
    {
     "name": "stdout",
     "output_type": "stream",
     "text": [
      "(5169,)\n",
      "(3618,)\n",
      "(1551,)\n"
     ]
    }
   ],
   "source": [
    "print(X.shape)\n",
    "print(X_train.shape)\n",
    "print(X_test.shape)"
   ]
  },
  {
   "cell_type": "markdown",
   "id": "8d3747e3",
   "metadata": {
    "papermill": {
     "duration": 0.017672,
     "end_time": "2023-09-06T18:23:48.426281",
     "exception": false,
     "start_time": "2023-09-06T18:23:48.408609",
     "status": "completed"
    },
    "tags": []
   },
   "source": [
    "## **Feature Extraction: TF-IDF**"
   ]
  },
  {
   "cell_type": "code",
   "execution_count": 21,
   "id": "8706b9b5",
   "metadata": {
    "execution": {
     "iopub.execute_input": "2023-09-06T18:23:48.461831Z",
     "iopub.status.busy": "2023-09-06T18:23:48.460844Z",
     "iopub.status.idle": "2023-09-06T18:23:48.620558Z",
     "shell.execute_reply": "2023-09-06T18:23:48.619518Z"
    },
    "papermill": {
     "duration": 0.180655,
     "end_time": "2023-09-06T18:23:48.623753",
     "exception": false,
     "start_time": "2023-09-06T18:23:48.443098",
     "status": "completed"
    },
    "tags": []
   },
   "outputs": [],
   "source": [
    "# Create a TF-IDF vectorizer to convert text messages to numerical features\n",
    "\n",
    "feature_extraction = TfidfVectorizer(min_df=1, stop_words='english',lowercase=True)\n",
    "\n",
    "# Convert the training and testing text messages into numerical features using TF-IDF\n",
    "\n",
    "X_train_features = feature_extraction.fit_transform(X_train)\n",
    "X_test_features = feature_extraction.transform(X_test)\n",
    "\n",
    "# Convert the target values into 0 and 1\n",
    "\n",
    "Y_train = Y_train.astype(int)\n",
    "Y_test = Y_test.astype(int)"
   ]
  },
  {
   "cell_type": "code",
   "execution_count": 22,
   "id": "47cfd498",
   "metadata": {
    "execution": {
     "iopub.execute_input": "2023-09-06T18:23:48.658762Z",
     "iopub.status.busy": "2023-09-06T18:23:48.658333Z",
     "iopub.status.idle": "2023-09-06T18:23:48.665431Z",
     "shell.execute_reply": "2023-09-06T18:23:48.663771Z"
    },
    "papermill": {
     "duration": 0.027088,
     "end_time": "2023-09-06T18:23:48.667737",
     "exception": false,
     "start_time": "2023-09-06T18:23:48.640649",
     "status": "completed"
    },
    "tags": []
   },
   "outputs": [
    {
     "name": "stdout",
     "output_type": "stream",
     "text": [
      "  (0, 274)\t0.28469841570534354\n",
      "  (0, 757)\t0.2382703692823207\n",
      "  (0, 309)\t0.28469841570534354\n",
      "  (0, 5479)\t0.28469841570534354\n",
      "  (0, 1666)\t0.18521698912601275\n",
      "  (0, 3176)\t0.28469841570534354\n",
      "  (0, 6726)\t0.16969158756163835\n",
      "  (0, 6243)\t0.28469841570534354\n",
      "  (0, 603)\t0.24274243659325892\n",
      "  (0, 2157)\t0.1929056107731498\n",
      "  (0, 6682)\t0.2059490803121428\n",
      "  (0, 6265)\t0.15269186047504035\n",
      "  (0, 5701)\t0.24274243659325892\n",
      "  (0, 6566)\t0.16515206653974776\n",
      "  (0, 6468)\t0.23079712301516783\n",
      "  (0, 2768)\t0.21505634607080928\n",
      "  (0, 4120)\t0.22760511302317224\n",
      "  (0, 234)\t0.20290236667023745\n",
      "  (0, 6626)\t0.18521698912601275\n",
      "  (1, 1536)\t0.5888338190512723\n",
      "  (1, 6486)\t0.5280141801118141\n",
      "  (1, 3501)\t0.4067379480769643\n",
      "  (1, 2132)\t0.45720892460283746\n",
      "  (2, 5579)\t0.4697175168946937\n",
      "  (2, 2524)\t0.6743730717061566\n",
      "  :\t:\n",
      "  (3612, 4940)\t0.4429207609150278\n",
      "  (3612, 3694)\t0.38321599910309895\n",
      "  (3612, 6141)\t0.4110511297018481\n",
      "  (3613, 3066)\t1.0\n",
      "  (3614, 782)\t0.6262002443728721\n",
      "  (3614, 2608)\t0.468640976347078\n",
      "  (3614, 5588)\t0.36937006848543374\n",
      "  (3614, 5988)\t0.3605704584204915\n",
      "  (3614, 3714)\t0.3490037052200379\n",
      "  (3615, 2602)\t0.5526654848490291\n",
      "  (3615, 6121)\t0.402966817413515\n",
      "  (3615, 2911)\t0.7295057271332491\n",
      "  (3616, 4209)\t0.39641512487909236\n",
      "  (3616, 6530)\t0.42462645266346505\n",
      "  (3616, 6259)\t0.4312579153217267\n",
      "  (3616, 3628)\t0.2870113903720111\n",
      "  (3616, 3714)\t0.6278443252388438\n",
      "  (3617, 6777)\t0.44477543282893783\n",
      "  (3617, 1360)\t0.45786114340694495\n",
      "  (3617, 5339)\t0.37301010052886446\n",
      "  (3617, 4059)\t0.31592454413164556\n",
      "  (3617, 1937)\t0.2537122894817113\n",
      "  (3617, 6054)\t0.2739877149031144\n",
      "  (3617, 3016)\t0.2900143375128283\n",
      "  (3617, 6682)\t0.36061839292205816\n"
     ]
    }
   ],
   "source": [
    "print(X_train_features)"
   ]
  },
  {
   "cell_type": "code",
   "execution_count": 23,
   "id": "0928b073",
   "metadata": {
    "execution": {
     "iopub.execute_input": "2023-09-06T18:23:48.703635Z",
     "iopub.status.busy": "2023-09-06T18:23:48.702564Z",
     "iopub.status.idle": "2023-09-06T18:23:48.710341Z",
     "shell.execute_reply": "2023-09-06T18:23:48.709077Z"
    },
    "papermill": {
     "duration": 0.028285,
     "end_time": "2023-09-06T18:23:48.712838",
     "exception": false,
     "start_time": "2023-09-06T18:23:48.684553",
     "status": "completed"
    },
    "tags": []
   },
   "outputs": [
    {
     "name": "stdout",
     "output_type": "stream",
     "text": [
      "2118    0\n",
      "1019    1\n",
      "1881    1\n",
      "2575    1\n",
      "4858    1\n",
      "       ..\n",
      "3534    1\n",
      "1124    1\n",
      "2628    1\n",
      "3833    1\n",
      "2694    1\n",
      "Name: Category, Length: 3618, dtype: int64\n"
     ]
    }
   ],
   "source": [
    "print(Y_train)"
   ]
  },
  {
   "cell_type": "markdown",
   "id": "7b350f03",
   "metadata": {
    "papermill": {
     "duration": 0.016295,
     "end_time": "2023-09-06T18:23:48.747023",
     "exception": false,
     "start_time": "2023-09-06T18:23:48.730728",
     "status": "completed"
    },
    "tags": []
   },
   "source": [
    "## **Model Training**"
   ]
  },
  {
   "cell_type": "code",
   "execution_count": 24,
   "id": "775cb906",
   "metadata": {
    "execution": {
     "iopub.execute_input": "2023-09-06T18:23:48.784401Z",
     "iopub.status.busy": "2023-09-06T18:23:48.783611Z",
     "iopub.status.idle": "2023-09-06T18:23:48.859599Z",
     "shell.execute_reply": "2023-09-06T18:23:48.858390Z"
    },
    "papermill": {
     "duration": 0.096915,
     "end_time": "2023-09-06T18:23:48.862377",
     "exception": false,
     "start_time": "2023-09-06T18:23:48.765462",
     "status": "completed"
    },
    "tags": []
   },
   "outputs": [
    {
     "data": {
      "text/html": [
       "<style>#sk-container-id-1 {color: black;background-color: white;}#sk-container-id-1 pre{padding: 0;}#sk-container-id-1 div.sk-toggleable {background-color: white;}#sk-container-id-1 label.sk-toggleable__label {cursor: pointer;display: block;width: 100%;margin-bottom: 0;padding: 0.3em;box-sizing: border-box;text-align: center;}#sk-container-id-1 label.sk-toggleable__label-arrow:before {content: \"▸\";float: left;margin-right: 0.25em;color: #696969;}#sk-container-id-1 label.sk-toggleable__label-arrow:hover:before {color: black;}#sk-container-id-1 div.sk-estimator:hover label.sk-toggleable__label-arrow:before {color: black;}#sk-container-id-1 div.sk-toggleable__content {max-height: 0;max-width: 0;overflow: hidden;text-align: left;background-color: #f0f8ff;}#sk-container-id-1 div.sk-toggleable__content pre {margin: 0.2em;color: black;border-radius: 0.25em;background-color: #f0f8ff;}#sk-container-id-1 input.sk-toggleable__control:checked~div.sk-toggleable__content {max-height: 200px;max-width: 100%;overflow: auto;}#sk-container-id-1 input.sk-toggleable__control:checked~label.sk-toggleable__label-arrow:before {content: \"▾\";}#sk-container-id-1 div.sk-estimator input.sk-toggleable__control:checked~label.sk-toggleable__label {background-color: #d4ebff;}#sk-container-id-1 div.sk-label input.sk-toggleable__control:checked~label.sk-toggleable__label {background-color: #d4ebff;}#sk-container-id-1 input.sk-hidden--visually {border: 0;clip: rect(1px 1px 1px 1px);clip: rect(1px, 1px, 1px, 1px);height: 1px;margin: -1px;overflow: hidden;padding: 0;position: absolute;width: 1px;}#sk-container-id-1 div.sk-estimator {font-family: monospace;background-color: #f0f8ff;border: 1px dotted black;border-radius: 0.25em;box-sizing: border-box;margin-bottom: 0.5em;}#sk-container-id-1 div.sk-estimator:hover {background-color: #d4ebff;}#sk-container-id-1 div.sk-parallel-item::after {content: \"\";width: 100%;border-bottom: 1px solid gray;flex-grow: 1;}#sk-container-id-1 div.sk-label:hover label.sk-toggleable__label {background-color: #d4ebff;}#sk-container-id-1 div.sk-serial::before {content: \"\";position: absolute;border-left: 1px solid gray;box-sizing: border-box;top: 0;bottom: 0;left: 50%;z-index: 0;}#sk-container-id-1 div.sk-serial {display: flex;flex-direction: column;align-items: center;background-color: white;padding-right: 0.2em;padding-left: 0.2em;position: relative;}#sk-container-id-1 div.sk-item {position: relative;z-index: 1;}#sk-container-id-1 div.sk-parallel {display: flex;align-items: stretch;justify-content: center;background-color: white;position: relative;}#sk-container-id-1 div.sk-item::before, #sk-container-id-1 div.sk-parallel-item::before {content: \"\";position: absolute;border-left: 1px solid gray;box-sizing: border-box;top: 0;bottom: 0;left: 50%;z-index: -1;}#sk-container-id-1 div.sk-parallel-item {display: flex;flex-direction: column;z-index: 1;position: relative;background-color: white;}#sk-container-id-1 div.sk-parallel-item:first-child::after {align-self: flex-end;width: 50%;}#sk-container-id-1 div.sk-parallel-item:last-child::after {align-self: flex-start;width: 50%;}#sk-container-id-1 div.sk-parallel-item:only-child::after {width: 0;}#sk-container-id-1 div.sk-dashed-wrapped {border: 1px dashed gray;margin: 0 0.4em 0.5em 0.4em;box-sizing: border-box;padding-bottom: 0.4em;background-color: white;}#sk-container-id-1 div.sk-label label {font-family: monospace;font-weight: bold;display: inline-block;line-height: 1.2em;}#sk-container-id-1 div.sk-label-container {text-align: center;}#sk-container-id-1 div.sk-container {/* jupyter's `normalize.less` sets `[hidden] { display: none; }` but bootstrap.min.css set `[hidden] { display: none !important; }` so we also need the `!important` here to be able to override the default hidden behavior on the sphinx rendered scikit-learn.org. See: https://github.com/scikit-learn/scikit-learn/issues/21755 */display: inline-block !important;position: relative;}#sk-container-id-1 div.sk-text-repr-fallback {display: none;}</style><div id=\"sk-container-id-1\" class=\"sk-top-container\"><div class=\"sk-text-repr-fallback\"><pre>LogisticRegression()</pre><b>In a Jupyter environment, please rerun this cell to show the HTML representation or trust the notebook. <br />On GitHub, the HTML representation is unable to render, please try loading this page with nbviewer.org.</b></div><div class=\"sk-container\" hidden><div class=\"sk-item\"><div class=\"sk-estimator sk-toggleable\"><input class=\"sk-toggleable__control sk-hidden--visually\" id=\"sk-estimator-id-1\" type=\"checkbox\" checked><label for=\"sk-estimator-id-1\" class=\"sk-toggleable__label sk-toggleable__label-arrow\">LogisticRegression</label><div class=\"sk-toggleable__content\"><pre>LogisticRegression()</pre></div></div></div></div></div>"
      ],
      "text/plain": [
       "LogisticRegression()"
      ]
     },
     "execution_count": 24,
     "metadata": {},
     "output_type": "execute_result"
    }
   ],
   "source": [
    "model = LogisticRegression()\n",
    "model.fit(X_train_features,Y_train)\n"
   ]
  },
  {
   "cell_type": "code",
   "execution_count": 25,
   "id": "b8ab920e",
   "metadata": {
    "execution": {
     "iopub.execute_input": "2023-09-06T18:23:48.899396Z",
     "iopub.status.busy": "2023-09-06T18:23:48.898957Z",
     "iopub.status.idle": "2023-09-06T18:23:48.910010Z",
     "shell.execute_reply": "2023-09-06T18:23:48.908451Z"
    },
    "papermill": {
     "duration": 0.03236,
     "end_time": "2023-09-06T18:23:48.912385",
     "exception": false,
     "start_time": "2023-09-06T18:23:48.880025",
     "status": "completed"
    },
    "tags": []
   },
   "outputs": [
    {
     "name": "stdout",
     "output_type": "stream",
     "text": [
      "Accuracy on training data: 96.01990049751244 %\n",
      "Accuracy on test data: 95.80915538362346 %\n"
     ]
    }
   ],
   "source": [
    "# Model evaluation\n",
    "prediction_on_training_data = model.predict(X_train_features)\n",
    "accuracy_on_training_data = accuracy_score(Y_train, prediction_on_training_data)\n",
    "\n",
    "prediction_on_test_data = model.predict(X_test_features)\n",
    "accuracy_on_test_data = accuracy_score(Y_test, prediction_on_test_data)\n",
    "\n",
    "# Print accuracy\n",
    "print('Accuracy on training data: {} %'.format(accuracy_on_training_data * 100))\n",
    "print('Accuracy on test data: {} %'.format(accuracy_on_test_data * 100))"
   ]
  },
  {
   "cell_type": "code",
   "execution_count": 26,
   "id": "bf97b587",
   "metadata": {
    "execution": {
     "iopub.execute_input": "2023-09-06T18:23:48.948382Z",
     "iopub.status.busy": "2023-09-06T18:23:48.947978Z",
     "iopub.status.idle": "2023-09-06T18:23:48.956818Z",
     "shell.execute_reply": "2023-09-06T18:23:48.955556Z"
    },
    "papermill": {
     "duration": 0.029514,
     "end_time": "2023-09-06T18:23:48.959080",
     "exception": false,
     "start_time": "2023-09-06T18:23:48.929566",
     "status": "completed"
    },
    "tags": []
   },
   "outputs": [
    {
     "name": "stdout",
     "output_type": "stream",
     "text": [
      "Ham Mail\n"
     ]
    }
   ],
   "source": [
    "# Test the model with some custom email messages\n",
    "\n",
    "input_mail = [\"Congratulations on your recent achievement! Well done.\"]\n",
    "input_data_features = feature_extraction.transform(input_mail)\n",
    "prediction = model.predict(input_data_features)\n",
    "\n",
    "if (prediction)[0] == 1:\n",
    "    print(\"Ham Mail\")\n",
    "else:\n",
    "    print(\"Spam Mail\")"
   ]
  },
  {
   "cell_type": "code",
   "execution_count": 27,
   "id": "44d26ee7",
   "metadata": {
    "execution": {
     "iopub.execute_input": "2023-09-06T18:23:48.995454Z",
     "iopub.status.busy": "2023-09-06T18:23:48.994754Z",
     "iopub.status.idle": "2023-09-06T18:23:49.003748Z",
     "shell.execute_reply": "2023-09-06T18:23:49.002387Z"
    },
    "papermill": {
     "duration": 0.030157,
     "end_time": "2023-09-06T18:23:49.006192",
     "exception": false,
     "start_time": "2023-09-06T18:23:48.976035",
     "status": "completed"
    },
    "tags": []
   },
   "outputs": [
    {
     "name": "stdout",
     "output_type": "stream",
     "text": [
      "Spam Mail\n"
     ]
    }
   ],
   "source": [
    "# Test the model with some custom email messages\n",
    "\n",
    "input_mail = [\"Congratulations! You have won $10000 from an online game. Click the link to claim your prize now!\"]\n",
    "input_data_features = feature_extraction.transform(input_mail)\n",
    "prediction = model.predict(input_data_features)\n",
    "\n",
    "if (prediction)[0] == 1:\n",
    "    print(\"Ham Mail\")\n",
    "else:\n",
    "    print(\"Spam Mail\")"
   ]
  },
  {
   "cell_type": "code",
   "execution_count": 28,
   "id": "6b2c36f9",
   "metadata": {
    "execution": {
     "iopub.execute_input": "2023-09-06T18:23:49.043871Z",
     "iopub.status.busy": "2023-09-06T18:23:49.043425Z",
     "iopub.status.idle": "2023-09-06T18:23:49.245713Z",
     "shell.execute_reply": "2023-09-06T18:23:49.244454Z"
    },
    "papermill": {
     "duration": 0.22439,
     "end_time": "2023-09-06T18:23:49.248287",
     "exception": false,
     "start_time": "2023-09-06T18:23:49.023897",
     "status": "completed"
    },
    "tags": []
   },
   "outputs": [
    {
     "data": {
      "image/png": "[encoded data removed]",
      "text/plain": [
       "<Figure size 800x600 with 1 Axes>"
      ]
     },
     "metadata": {},
     "output_type": "display_data"
    }
   ],
   "source": [
    "# Data Visualisation - Confusion Matrix\n",
    "\n",
    "cm = confusion_matrix(Y_test,prediction_on_test_data)\n",
    "\n",
    "plt.figure(figsize=(8,6))\n",
    "sns.heatmap(cm, annot=True, fmt='d',cmap=\"plasma\", cbar=False)\n",
    "plt.xlabel(\"Predicted\")\n",
    "plt.ylabel('True')\n",
    "plt.title(\"Confusion Matrix\")\n",
    "plt.show()"
   ]
  }
 ],
 "kernelspec": {
  "display_name": "Python 3",
  "language": "python",
  "name": "python3"
 },
 "language_info": {
  "codemirror_mode": {
   "name": "ipython",
   "version": 3
  },
  "file_extension": ".py",
  "mimetype": "text/x-python",
  "name": "python",
  "nbconvert_exporter": "python",
  "pygments_lexer": "ipython3",
  "version": "3.6.4"
 },
 "metadata": {
  "kernelspec": {
   "display_name": "Python 3",
   "language": "python",
   "name": "python3"
  },
  "language_info": {
   "codemirror_mode": {
    "name": "ipython",
    "version": 3
   },
   "file_extension": ".py",
   "mimetype": "text/x-python",
   "name": "python",
   "nbconvert_exporter": "python",
   "pygments_lexer": "ipython3",
   "version": "3.10.12"
  },
  "papermill": {
   "default_parameters": {},
   "duration": 9.979896,
   "end_time": "2023-09-06T18:23:49.988191",
   "environment_variables": {},
   "exception": null,
   "input_path": "__notebook__.ipynb",
   "output_path": "__notebook__.ipynb",
   "parameters": {},
   "start_time": "2023-09-06T18:23:40.008295",
   "version": "2.4.0"
  }
 },
 "nbformat": 4,
 "nbformat_minor": 5
}
